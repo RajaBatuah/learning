{
  "nbformat": 4,
  "nbformat_minor": 0,
  "metadata": {
    "colab": {
      "provenance": [],
      "toc_visible": true,
      "authorship_tag": "ABX9TyPi60Pt6mDM43+5NsgD92c9",
      "include_colab_link": true
    },
    "kernelspec": {
      "name": "python3",
      "display_name": "Python 3"
    },
    "language_info": {
      "name": "python"
    }
  },
  "cells": [
    {
      "cell_type": "markdown",
      "metadata": {
        "id": "view-in-github",
        "colab_type": "text"
      },
      "source": [
        "<a href=\"https://colab.research.google.com/github/RajaBatuah/learning/blob/master/SF_CoreModel_rf.ipynb\" target=\"_parent\"><img src=\"https://colab.research.google.com/assets/colab-badge.svg\" alt=\"Open In Colab\"/></a>"
      ]
    },
    {
      "cell_type": "code",
      "execution_count": null,
      "metadata": {
        "id": "pegWiGNhhblb"
      },
      "outputs": [],
      "source": [
        "# core_model_rf.py\n",
        "import pandas as pd\n",
        "from sklearn.ensemble import RandomForestClassifier\n",
        "from sklearn.model_selection import train_test_split\n",
        "from sklearn.preprocessing import LabelEncoder\n",
        "from sklearn.metrics import classification_report\n",
        "import joblib"
      ]
    },
    {
      "cell_type": "code",
      "source": [
        "class BanjirRFModel:\n",
        "  def _init_(self, n_estimators=100, max_depth=None, random_state=42):\n",
        "    self.model = RandomForestClassifier(\n",
        "        n_estimators=n_estimators,\n",
        "        max_depth=max_depth,\n",
        "        random_state=random_state\n",
        "        )\n",
        "    self.label_encoders = {}\n",
        "    self.fitted = False"
      ],
      "metadata": {
        "id": "rzvcs3CXmYhO"
      },
      "execution_count": null,
      "outputs": []
    },
    {
      "cell_type": "code",
      "source": [
        "def _encode_categorical(self, X):\n",
        "  X_encoded = X.copy()\n",
        "  for col in X.select_dtypes(include=['object', 'category']).columns:\n",
        "    if col not in self.label_encoders:\n",
        "      self.label_encoders[col] = LabelEncoder()\n",
        "      X_encoded[col] = self.label_encoders[col].fit_transform(X[col])\n",
        "    else:\n",
        "      X_encoded[col] = self.label_encoders[col].transform(X[col])\n",
        "  return X_encoded"
      ],
      "metadata": {
        "id": "j_IWLYB8nlEn"
      },
      "execution_count": null,
      "outputs": []
    },
    {
      "cell_type": "code",
      "source": [
        "def fit(self, X, y):\n",
        "  X_encoded = self._encode_categorical(X)\n",
        "  self.model.fit(X_encoded, y)\n",
        "  self.fitted = True"
      ],
      "metadata": {
        "id": "6JOppZhFoKZ-"
      },
      "execution_count": null,
      "outputs": []
    },
    {
      "cell_type": "code",
      "source": [
        "def predict(self, X):\n",
        "  if not self.fitted:\n",
        "    raise Exception(\"Model belum dilatih.\")\n",
        "    X_encoded = self._encode_categorical(X)\n",
        "    preds = self.model.predict(X_encoded)\n",
        "    probs = self.model.predict_proba(X_encoded)[:, 1]  # Probabilitas kelas 'banjir'\n",
        "    return preds, probs"
      ],
      "metadata": {
        "id": "yDsC8fULoYSp"
      },
      "execution_count": null,
      "outputs": []
    },
    {
      "cell_type": "code",
      "source": [
        "def evaluate(self, X, y_true):\n",
        "  preds, _ = self.predict(X)\n",
        "  return classification_report(y_true, preds)"
      ],
      "metadata": {
        "id": "f088fD5tpNoP"
      },
      "execution_count": null,
      "outputs": []
    },
    {
      "cell_type": "code",
      "source": [
        "def save_model(self, path=\"model_banjir_rf.pkl\"):\n",
        "  joblib.dump((self.model, self.label_encoders), path)"
      ],
      "metadata": {
        "id": "qKtvi3vHpa-Y"
      },
      "execution_count": null,
      "outputs": []
    },
    {
      "cell_type": "code",
      "source": [
        "def load_model(self, path=\"model_banjir_rf.pkl\"):\n",
        "  self.model, self.label_encoders = joblib.load(path)\n",
        "  self.fitted = True"
      ],
      "metadata": {
        "id": "aku6PWj8phoV"
      },
      "execution_count": null,
      "outputs": []
    }
  ]
}